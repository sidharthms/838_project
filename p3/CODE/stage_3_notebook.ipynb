{
 "cells": [
  {
   "cell_type": "code",
   "execution_count": 2,
   "metadata": {
    "collapsed": false,
    "deletable": true,
    "editable": true
   },
   "outputs": [
    {
     "data": {
      "text/plain": [
       "True"
      ]
     },
     "execution_count": 2,
     "metadata": {},
     "output_type": "execute_result"
    }
   ],
   "source": [
    "#Reading in the input tables A, B.\n",
    "import py_entitymatching as em\n",
    "\n",
    "songs = em.read_csv_metadata('../DATA/songs.csv',low_memory = False)\n",
    "tracks = em.read_csv_metadata('../DATA/tracks.csv',low_memory = False)\n",
    "\n",
    "em.set_key(songs, 'id')\n",
    "em.set_key(tracks, 'id')"
   ]
  },
  {
   "cell_type": "code",
   "execution_count": 3,
   "metadata": {
    "collapsed": false,
    "deletable": true,
    "editable": true
   },
   "outputs": [
    {
     "name": "stderr",
     "output_type": "stream",
     "text": [
      "0%                          100%\n",
      "[##############################] | ETA: 00:02:21 | ETA: 00:02:16 | ETA: 00:02:10 | ETA: 00:02:13 | ETA: 00:02:03 | ETA: 00:01:57 | ETA: 00:01:53 | ETA: 00:01:48 | ETA: 00:01:41 | ETA: 00:01:34 | ETA: 00:01:29 | ETA: 00:01:26 | ETA: 00:01:21 | ETA: 00:01:15 | ETA: 00:01:09 | ETA: 00:01:04 | ETA: 00:00:59 | ETA: 00:00:54 | ETA: 00:00:50 | ETA: 00:00:45 | ETA: 00:00:40 | ETA: 00:00:35 | ETA: 00:00:30 | ETA: 00:00:26 | ETA: 00:00:22 | ETA: 00:00:17 | ETA: 00:00:13 | ETA: 00:00:08 | ETA: 00:00:04 | ETA: 00:00:00 | ETA: 00:00:00\n",
      "Total time elapsed: 00:02:10\n"
     ]
    }
   ],
   "source": [
    "#Downsampling of the input tables, if any.\n",
    "sample_songs, sample_tracks = em.down_sample(songs, tracks, size=3500, y_param=1, show_progress=True)"
   ]
  },
  {
   "cell_type": "code",
   "execution_count": 9,
   "metadata": {
    "collapsed": false,
    "deletable": true,
    "editable": true
   },
   "outputs": [
    {
     "data": {
      "text/plain": [
       "True"
      ]
     },
     "execution_count": 9,
     "metadata": {},
     "output_type": "execute_result"
    }
   ],
   "source": [
    "\"\"\"\n",
    "Applying the blocker (or blocking sequence) on the input (or downsampled) tables to get the candidate set C. This step should include:\n",
    "    Applying the blocker to the input (or downsampled) tables in the first iteration.\n",
    "    If the blocker output was debugged (using debug_blocker) then provide a brief description of what was observed and how the blocker (or blocking sequence) was modified.  \n",
    "    Applying the modified blocker (or blocking sequence).\n",
    "    Repeat the steps b and c for all the debug iterations.\n",
    "    Provide a brief description on how did you decide to stop modifying the blocker (or blocking sequence).\n",
    "\"\"\"\n",
    "songs = em.read_csv_metadata('../DATA/song_sample.csv',low_memory = False)\n",
    "tracks = em.read_csv_metadata('../DATA/track_sample.csv',low_memory = False)\t\n",
    "\n",
    "em.set_key(songs, 'id')\n",
    "em.set_key(tracks, 'id')"
   ]
  },
  {
   "cell_type": "code",
   "execution_count": 10,
   "metadata": {
    "collapsed": false,
    "deletable": true,
    "editable": true
   },
   "outputs": [
    {
     "name": "stderr",
     "output_type": "stream",
     "text": [
      "0%                          100%\n",
      "[##############################] | ETA: 00:00:02 | ETA: 00:00:02 | ETA: 00:00:02 | ETA: 00:00:02 | ETA: 00:00:01 | ETA: 00:00:01 | ETA: 00:00:01 | ETA: 00:00:01 | ETA: 00:00:01 | ETA: 00:00:01 | ETA: 00:00:01 | ETA: 00:00:01 | ETA: 00:00:01 | ETA: 00:00:01 | ETA: 00:00:01 | ETA: 00:00:01 | ETA: 00:00:01 | ETA: 00:00:01 | ETA: 00:00:00 | ETA: 00:00:00 | ETA: 00:00:00 | ETA: 00:00:00 | ETA: 00:00:00 | ETA: 00:00:00 | ETA: 00:00:00 | ETA: 00:00:00 | ETA: 00:00:00 | ETA: 00:00:00 | ETA: 00:00:00 | ETA: 00:00:00 | ETA: 00:00:00\n",
      "Total time elapsed: 00:00:02\n",
      "0%  100%\n",
      "[##] | ETA: 00:00:00 | ETA: 00:00:00 | ETA: 00:00:00"
     ]
    },
    {
     "name": "stdout",
     "output_type": "stream",
     "text": [
      "Finding pairs with missing value...\n"
     ]
    },
    {
     "name": "stderr",
     "output_type": "stream",
     "text": [
      "\n",
      "Total time elapsed: 00:00:00\n"
     ]
    }
   ],
   "source": [
    "# Our first pass is an overlap blocker on the name of the song\n",
    "ob = em.OverlapBlocker()\n",
    "candidate_pairs = ob.block_tables(songs, tracks, 'name', 'name', \n",
    "\t\t\t\t\tword_level=True, \n",
    "\t\t\t\t\toverlap_size=1, \n",
    "                    l_output_attrs=['name', 'artist', 'year'], \n",
    "                    r_output_attrs=['name', 'artist','year'],\n",
    "\t\t\t\t\tallow_missing=True,\n",
    "                    show_progress=True)"
   ]
  },
  {
   "cell_type": "code",
   "execution_count": 11,
   "metadata": {
    "collapsed": false,
    "deletable": true,
    "editable": true
   },
   "outputs": [
    {
     "data": {
      "text/plain": [
       "550199"
      ]
     },
     "execution_count": 11,
     "metadata": {},
     "output_type": "execute_result"
    }
   ],
   "source": [
    "# We have ~500k candidates\n",
    "len(candidate_pairs)"
   ]
  },
  {
   "cell_type": "code",
   "execution_count": 12,
   "metadata": {
    "collapsed": false,
    "deletable": true,
    "editable": true
   },
   "outputs": [
    {
     "data": {
      "text/html": [
       "<div>\n",
       "<table border=\"1\" class=\"dataframe\">\n",
       "  <thead>\n",
       "    <tr style=\"text-align: right;\">\n",
       "      <th></th>\n",
       "      <th>_id</th>\n",
       "      <th>similarity</th>\n",
       "      <th>ltable_id</th>\n",
       "      <th>rtable_id</th>\n",
       "      <th>ltable_name</th>\n",
       "      <th>ltable_artist</th>\n",
       "      <th>rtable_name</th>\n",
       "      <th>rtable_artist</th>\n",
       "    </tr>\n",
       "  </thead>\n",
       "  <tbody>\n",
       "    <tr>\n",
       "      <th>0</th>\n",
       "      <td>0</td>\n",
       "      <td>0.555556</td>\n",
       "      <td>952059</td>\n",
       "      <td>159733</td>\n",
       "      <td>proud mary</td>\n",
       "      <td>twinkle twinkle little rock star</td>\n",
       "      <td>mr. robot</td>\n",
       "      <td>twinkle twinkle little rock star</td>\n",
       "    </tr>\n",
       "    <tr>\n",
       "      <th>1</th>\n",
       "      <td>1</td>\n",
       "      <td>0.500000</td>\n",
       "      <td>27694</td>\n",
       "      <td>507409</td>\n",
       "      <td>outro</td>\n",
       "      <td>godspeed you! black emperor</td>\n",
       "      <td>la doppia ora</td>\n",
       "      <td>godspeed you! black emperor</td>\n",
       "    </tr>\n",
       "    <tr>\n",
       "      <th>2</th>\n",
       "      <td>2</td>\n",
       "      <td>0.500000</td>\n",
       "      <td>517682</td>\n",
       "      <td>185360</td>\n",
       "      <td>supermodels</td>\n",
       "      <td>kendall payne</td>\n",
       "      <td>popular</td>\n",
       "      <td>kendall payne</td>\n",
       "    </tr>\n",
       "    <tr>\n",
       "      <th>3</th>\n",
       "      <td>3</td>\n",
       "      <td>0.500000</td>\n",
       "      <td>937077</td>\n",
       "      <td>47463</td>\n",
       "      <td>i believe</td>\n",
       "      <td>blessid union of souls</td>\n",
       "      <td>cold case</td>\n",
       "      <td>blessid union of souls</td>\n",
       "    </tr>\n",
       "    <tr>\n",
       "      <th>4</th>\n",
       "      <td>4</td>\n",
       "      <td>0.500000</td>\n",
       "      <td>939748</td>\n",
       "      <td>35017</td>\n",
       "      <td>black coffee</td>\n",
       "      <td>the pointer sisters</td>\n",
       "      <td>braindead</td>\n",
       "      <td>the pointer sisters</td>\n",
       "    </tr>\n",
       "  </tbody>\n",
       "</table>\n",
       "</div>"
      ],
      "text/plain": [
       "   _id  similarity  ltable_id  rtable_id   ltable_name  \\\n",
       "0    0    0.555556     952059     159733    proud mary   \n",
       "1    1    0.500000      27694     507409         outro   \n",
       "2    2    0.500000     517682     185360   supermodels   \n",
       "3    3    0.500000     937077      47463     i believe   \n",
       "4    4    0.500000     939748      35017  black coffee   \n",
       "\n",
       "                      ltable_artist    rtable_name  \\\n",
       "0  twinkle twinkle little rock star      mr. robot   \n",
       "1       godspeed you! black emperor  la doppia ora   \n",
       "2                     kendall payne        popular   \n",
       "3            blessid union of souls      cold case   \n",
       "4               the pointer sisters      braindead   \n",
       "\n",
       "                      rtable_artist  \n",
       "0  twinkle twinkle little rock star  \n",
       "1       godspeed you! black emperor  \n",
       "2                     kendall payne  \n",
       "3            blessid union of souls  \n",
       "4               the pointer sisters  "
      ]
     },
     "execution_count": 12,
     "metadata": {},
     "output_type": "execute_result"
    }
   ],
   "source": [
    "# None of them appear to be false negatives, so we will proceed with another layer \n",
    "# to the blocker.\n",
    "dbg = em.debug_blocker(candidate_pairs,songs,tracks,output_size = 50)\n",
    "dbg.head()"
   ]
  },
  {
   "cell_type": "code",
   "execution_count": 13,
   "metadata": {
    "collapsed": false,
    "deletable": true,
    "editable": true
   },
   "outputs": [
    {
     "name": "stderr",
     "output_type": "stream",
     "text": [
      "0%                          100%\n",
      "[##############################] | ETA: 00:00:10 | ETA: 00:00:11 | ETA: 00:00:10 | ETA: 00:00:10 | ETA: 00:00:10 | ETA: 00:00:09 | ETA: 00:00:09 | ETA: 00:00:08 | ETA: 00:00:08 | ETA: 00:00:07 | ETA: 00:00:07 | ETA: 00:00:07 | ETA: 00:00:06 | ETA: 00:00:06 | ETA: 00:00:05 | ETA: 00:00:05 | ETA: 00:00:05 | ETA: 00:00:04 | ETA: 00:00:04 | ETA: 00:00:03 | ETA: 00:00:03 | ETA: 00:00:03 | ETA: 00:00:02 | ETA: 00:00:02 | ETA: 00:00:01 | ETA: 00:00:01 | ETA: 00:00:01 | ETA: 00:00:00 | ETA: 00:00:00 | ETA: 00:00:00 | ETA: 00:00:00\n",
      "Total time elapsed: 00:00:11\n"
     ]
    }
   ],
   "source": [
    "# Now, we will block on the artist.\n",
    "c2 = ob.block_candset(candidate_pairs, 'artist', 'artist',\n",
    "\t\t\t\t\tword_level=True, \n",
    "\t\t\t\t\toverlap_size=1, \n",
    "\t\t\t\t\tshow_progress=True)"
   ]
  },
  {
   "cell_type": "code",
   "execution_count": 14,
   "metadata": {
    "collapsed": false,
    "deletable": true,
    "editable": true
   },
   "outputs": [
    {
     "data": {
      "text/plain": [
       "6416"
      ]
     },
     "execution_count": 14,
     "metadata": {},
     "output_type": "execute_result"
    }
   ],
   "source": [
    "# Now, we have about 7k candidates. Still too many.\n",
    "len(c2)"
   ]
  },
  {
   "cell_type": "code",
   "execution_count": 15,
   "metadata": {
    "collapsed": false,
    "deletable": true,
    "editable": true
   },
   "outputs": [
    {
     "data": {
      "text/html": [
       "<div>\n",
       "<table border=\"1\" class=\"dataframe\">\n",
       "  <thead>\n",
       "    <tr style=\"text-align: right;\">\n",
       "      <th></th>\n",
       "      <th>_id</th>\n",
       "      <th>similarity</th>\n",
       "      <th>ltable_id</th>\n",
       "      <th>rtable_id</th>\n",
       "      <th>ltable_name</th>\n",
       "      <th>ltable_artist</th>\n",
       "      <th>rtable_name</th>\n",
       "      <th>rtable_artist</th>\n",
       "    </tr>\n",
       "  </thead>\n",
       "  <tbody>\n",
       "    <tr>\n",
       "      <th>0</th>\n",
       "      <td>0</td>\n",
       "      <td>0.800000</td>\n",
       "      <td>953818</td>\n",
       "      <td>57898</td>\n",
       "      <td>dancing with the stars</td>\n",
       "      <td>telecast</td>\n",
       "      <td>dancing with the stars</td>\n",
       "      <td>NaN</td>\n",
       "    </tr>\n",
       "    <tr>\n",
       "      <th>1</th>\n",
       "      <td>1</td>\n",
       "      <td>0.666667</td>\n",
       "      <td>890173</td>\n",
       "      <td>24816</td>\n",
       "      <td>beauty and the beast</td>\n",
       "      <td>antiloop</td>\n",
       "      <td>beauty and the beast</td>\n",
       "      <td>mideau</td>\n",
       "    </tr>\n",
       "    <tr>\n",
       "      <th>2</th>\n",
       "      <td>2</td>\n",
       "      <td>0.666667</td>\n",
       "      <td>912378</td>\n",
       "      <td>445132</td>\n",
       "      <td>free state of jones</td>\n",
       "      <td>cary hudson</td>\n",
       "      <td>free state of jones</td>\n",
       "      <td>NaN</td>\n",
       "    </tr>\n",
       "    <tr>\n",
       "      <th>3</th>\n",
       "      <td>3</td>\n",
       "      <td>0.625000</td>\n",
       "      <td>759553</td>\n",
       "      <td>607405</td>\n",
       "      <td>scusa ma ti voglio sposare</td>\n",
       "      <td>sugarfree</td>\n",
       "      <td>scusa ma ti voglio sposare</td>\n",
       "      <td>zero assoluto</td>\n",
       "    </tr>\n",
       "    <tr>\n",
       "      <th>4</th>\n",
       "      <td>4</td>\n",
       "      <td>0.600000</td>\n",
       "      <td>534052</td>\n",
       "      <td>701089</td>\n",
       "      <td>toute première fois</td>\n",
       "      <td>kate ryan</td>\n",
       "      <td>toute première fois</td>\n",
       "      <td>NaN</td>\n",
       "    </tr>\n",
       "    <tr>\n",
       "      <th>5</th>\n",
       "      <td>5</td>\n",
       "      <td>0.600000</td>\n",
       "      <td>679695</td>\n",
       "      <td>138223</td>\n",
       "      <td>lie to me</td>\n",
       "      <td>jonny lang</td>\n",
       "      <td>lie to me</td>\n",
       "      <td>NaN</td>\n",
       "    </tr>\n",
       "    <tr>\n",
       "      <th>6</th>\n",
       "      <td>6</td>\n",
       "      <td>0.571429</td>\n",
       "      <td>890173</td>\n",
       "      <td>24825</td>\n",
       "      <td>beauty and the beast</td>\n",
       "      <td>antiloop</td>\n",
       "      <td>beauty and the beast</td>\n",
       "      <td>timber timbre</td>\n",
       "    </tr>\n",
       "    <tr>\n",
       "      <th>7</th>\n",
       "      <td>7</td>\n",
       "      <td>0.571429</td>\n",
       "      <td>953818</td>\n",
       "      <td>57740</td>\n",
       "      <td>dancing with the stars</td>\n",
       "      <td>telecast</td>\n",
       "      <td>dancing with the stars</td>\n",
       "      <td>isham jones</td>\n",
       "    </tr>\n",
       "    <tr>\n",
       "      <th>8</th>\n",
       "      <td>8</td>\n",
       "      <td>0.571429</td>\n",
       "      <td>953818</td>\n",
       "      <td>58471</td>\n",
       "      <td>dancing with the stars</td>\n",
       "      <td>telecast</td>\n",
       "      <td>dancing with the stars</td>\n",
       "      <td>robert palmer</td>\n",
       "    </tr>\n",
       "    <tr>\n",
       "      <th>9</th>\n",
       "      <td>9</td>\n",
       "      <td>0.571429</td>\n",
       "      <td>953818</td>\n",
       "      <td>57589</td>\n",
       "      <td>dancing with the stars</td>\n",
       "      <td>telecast</td>\n",
       "      <td>dancing with the stars</td>\n",
       "      <td>john farrar</td>\n",
       "    </tr>\n",
       "    <tr>\n",
       "      <th>10</th>\n",
       "      <td>10</td>\n",
       "      <td>0.571429</td>\n",
       "      <td>920094</td>\n",
       "      <td>455009</td>\n",
       "      <td>gone with the wind</td>\n",
       "      <td>the jazz messengers</td>\n",
       "      <td>gone with the wind</td>\n",
       "      <td>NaN</td>\n",
       "    </tr>\n",
       "    <tr>\n",
       "      <th>11</th>\n",
       "      <td>11</td>\n",
       "      <td>0.571429</td>\n",
       "      <td>529771</td>\n",
       "      <td>478799</td>\n",
       "      <td>i dream of wires</td>\n",
       "      <td>robert palmer</td>\n",
       "      <td>i dream of wires</td>\n",
       "      <td>solvent</td>\n",
       "    </tr>\n",
       "    <tr>\n",
       "      <th>12</th>\n",
       "      <td>12</td>\n",
       "      <td>0.571429</td>\n",
       "      <td>953818</td>\n",
       "      <td>57936</td>\n",
       "      <td>dancing with the stars</td>\n",
       "      <td>telecast</td>\n",
       "      <td>dancing with the stars</td>\n",
       "      <td>barry manilow</td>\n",
       "    </tr>\n",
       "    <tr>\n",
       "      <th>13</th>\n",
       "      <td>13</td>\n",
       "      <td>0.571429</td>\n",
       "      <td>953818</td>\n",
       "      <td>58911</td>\n",
       "      <td>dancing with the stars</td>\n",
       "      <td>telecast</td>\n",
       "      <td>dancing with the stars</td>\n",
       "      <td>john kander</td>\n",
       "    </tr>\n",
       "    <tr>\n",
       "      <th>14</th>\n",
       "      <td>14</td>\n",
       "      <td>0.555556</td>\n",
       "      <td>952059</td>\n",
       "      <td>159733</td>\n",
       "      <td>proud mary</td>\n",
       "      <td>twinkle twinkle little rock star</td>\n",
       "      <td>mr. robot</td>\n",
       "      <td>twinkle twinkle little rock star</td>\n",
       "    </tr>\n",
       "    <tr>\n",
       "      <th>15</th>\n",
       "      <td>15</td>\n",
       "      <td>0.555556</td>\n",
       "      <td>439194</td>\n",
       "      <td>620978</td>\n",
       "      <td>soft lights and sweet music</td>\n",
       "      <td>charlie byrd</td>\n",
       "      <td>soft lights and sweet music</td>\n",
       "      <td>donald stewart</td>\n",
       "    </tr>\n",
       "    <tr>\n",
       "      <th>16</th>\n",
       "      <td>16</td>\n",
       "      <td>0.500000</td>\n",
       "      <td>822011</td>\n",
       "      <td>198104</td>\n",
       "      <td>everlong</td>\n",
       "      <td>foo fighters</td>\n",
       "      <td>roswell</td>\n",
       "      <td>foo fighters</td>\n",
       "    </tr>\n",
       "    <tr>\n",
       "      <th>17</th>\n",
       "      <td>17</td>\n",
       "      <td>0.500000</td>\n",
       "      <td>781440</td>\n",
       "      <td>636084</td>\n",
       "      <td>ljubav je za ljude sve</td>\n",
       "      <td>srebrna krila</td>\n",
       "      <td>sve je za ljude</td>\n",
       "      <td>zorana</td>\n",
       "    </tr>\n",
       "    <tr>\n",
       "      <th>18</th>\n",
       "      <td>18</td>\n",
       "      <td>0.500000</td>\n",
       "      <td>863096</td>\n",
       "      <td>429885</td>\n",
       "      <td>new york city live</td>\n",
       "      <td>js16</td>\n",
       "      <td>eminem: live from new york city</td>\n",
       "      <td>eminem</td>\n",
       "    </tr>\n",
       "    <tr>\n",
       "      <th>19</th>\n",
       "      <td>19</td>\n",
       "      <td>0.500000</td>\n",
       "      <td>953818</td>\n",
       "      <td>57798</td>\n",
       "      <td>dancing with the stars</td>\n",
       "      <td>telecast</td>\n",
       "      <td>dancing with the stars</td>\n",
       "      <td>john lennon+paul mccartney</td>\n",
       "    </tr>\n",
       "  </tbody>\n",
       "</table>\n",
       "</div>"
      ],
      "text/plain": [
       "    _id  similarity  ltable_id  rtable_id                  ltable_name  \\\n",
       "0     0    0.800000     953818      57898       dancing with the stars   \n",
       "1     1    0.666667     890173      24816         beauty and the beast   \n",
       "2     2    0.666667     912378     445132          free state of jones   \n",
       "3     3    0.625000     759553     607405   scusa ma ti voglio sposare   \n",
       "4     4    0.600000     534052     701089          toute première fois   \n",
       "5     5    0.600000     679695     138223                    lie to me   \n",
       "6     6    0.571429     890173      24825         beauty and the beast   \n",
       "7     7    0.571429     953818      57740       dancing with the stars   \n",
       "8     8    0.571429     953818      58471       dancing with the stars   \n",
       "9     9    0.571429     953818      57589       dancing with the stars   \n",
       "10   10    0.571429     920094     455009           gone with the wind   \n",
       "11   11    0.571429     529771     478799             i dream of wires   \n",
       "12   12    0.571429     953818      57936       dancing with the stars   \n",
       "13   13    0.571429     953818      58911       dancing with the stars   \n",
       "14   14    0.555556     952059     159733                   proud mary   \n",
       "15   15    0.555556     439194     620978  soft lights and sweet music   \n",
       "16   16    0.500000     822011     198104                     everlong   \n",
       "17   17    0.500000     781440     636084       ljubav je za ljude sve   \n",
       "18   18    0.500000     863096     429885           new york city live   \n",
       "19   19    0.500000     953818      57798       dancing with the stars   \n",
       "\n",
       "                       ltable_artist                      rtable_name  \\\n",
       "0                           telecast           dancing with the stars   \n",
       "1                           antiloop             beauty and the beast   \n",
       "2                        cary hudson              free state of jones   \n",
       "3                          sugarfree       scusa ma ti voglio sposare   \n",
       "4                          kate ryan              toute première fois   \n",
       "5                         jonny lang                        lie to me   \n",
       "6                           antiloop             beauty and the beast   \n",
       "7                           telecast           dancing with the stars   \n",
       "8                           telecast           dancing with the stars   \n",
       "9                           telecast           dancing with the stars   \n",
       "10               the jazz messengers               gone with the wind   \n",
       "11                     robert palmer                 i dream of wires   \n",
       "12                          telecast           dancing with the stars   \n",
       "13                          telecast           dancing with the stars   \n",
       "14  twinkle twinkle little rock star                        mr. robot   \n",
       "15                      charlie byrd      soft lights and sweet music   \n",
       "16                      foo fighters                          roswell   \n",
       "17                     srebrna krila                  sve je za ljude   \n",
       "18                              js16  eminem: live from new york city   \n",
       "19                          telecast           dancing with the stars   \n",
       "\n",
       "                       rtable_artist  \n",
       "0                                NaN  \n",
       "1                             mideau  \n",
       "2                                NaN  \n",
       "3                      zero assoluto  \n",
       "4                                NaN  \n",
       "5                                NaN  \n",
       "6                      timber timbre  \n",
       "7                        isham jones  \n",
       "8                      robert palmer  \n",
       "9                        john farrar  \n",
       "10                               NaN  \n",
       "11                           solvent  \n",
       "12                     barry manilow  \n",
       "13                       john kander  \n",
       "14  twinkle twinkle little rock star  \n",
       "15                    donald stewart  \n",
       "16                      foo fighters  \n",
       "17                            zorana  \n",
       "18                            eminem  \n",
       "19        john lennon+paul mccartney  "
      ]
     },
     "execution_count": 15,
     "metadata": {},
     "output_type": "execute_result"
    }
   ],
   "source": [
    "# Again, none of them appear to be false negatives, but there are still too many. We will\n",
    "# proceed with another layer to the blocker.\n",
    "dbg = em.debug_blocker(c2,songs,tracks,output_size = 50)\n",
    "dbg.head(20)"
   ]
  },
  {
   "cell_type": "code",
   "execution_count": 16,
   "metadata": {
    "collapsed": false,
    "deletable": true,
    "editable": true
   },
   "outputs": [
    {
     "name": "stderr",
     "output_type": "stream",
     "text": [
      "0%                          100%\n",
      "[                              ]0%                          100%\n",
      "[##############################] | ETA: 00:00:02 | ETA: 00:00:01 | ETA: 00:00:01 | ETA: 00:00:01 | ETA: 00:00:01 | ETA: 00:00:01 | ETA: 00:00:01 | ETA: 00:00:01 | ETA: 00:00:01 | ETA: 00:00:01 | ETA: 00:00:01 | ETA: 00:00:00 | ETA: 00:00:00 | ETA: 00:00:00 | ETA: 00:00:00 | ETA: 00:00:00 | ETA: 00:00:00 | ETA: 00:00:00 | ETA: 00:00:00 | ETA: 00:00:00 | ETA: 00:00:00 | ETA: 00:00:00 | ETA: 00:00:00 | ETA: 00:00:00 | ETA: 00:00:00 | ETA: 00:00:00 | ETA: 00:00:00 | ETA: 00:00:00 | ETA: 00:00:00 | ETA: 00:00:00 | ETA: 00:00:00\n",
      "Total time elapsed: 00:00:01\n"
     ]
    }
   ],
   "source": [
    "# Let's cut out candidates which do not meet a minimum Jaccard similarity when \n",
    "# comparing song names.\n",
    "block_f = em.get_features_for_blocking(songs,tracks)\t\n",
    "block_c = em.get_attr_corres(songs,tracks)\n",
    "block_t = em.get_tokenizers_for_blocking()\n",
    "block_s = em.get_sim_funs_for_blocking()\n",
    "\n",
    "atypes1 = em.get_attr_types(songs)\n",
    "atypes2 = em.get_attr_types(tracks)\n",
    "\n",
    "block_f = em.get_features(songs, tracks, atypes1, atypes2, block_c, block_t, block_s)\n",
    "\n",
    "rb = em.RuleBasedBlocker()\n",
    "rb.add_rule([\"name_name_jac_dlm_dc0_dlm_dc0(ltuple, rtuple) < 0.20\"], block_f)\n",
    "\n",
    "c3 = rb.block_candset(c2,\n",
    "                    show_progress=True)\n",
    "\t\t\t\t\t\n"
   ]
  },
  {
   "cell_type": "code",
   "execution_count": 17,
   "metadata": {
    "collapsed": false,
    "deletable": true,
    "editable": true
   },
   "outputs": [
    {
     "data": {
      "text/plain": [
       "646"
      ]
     },
     "execution_count": 17,
     "metadata": {},
     "output_type": "execute_result"
    }
   ],
   "source": [
    "# That's more manageable. They seem like reasonable candidates, and there are no false\n",
    "# negatives seen when debugging.\n",
    "len(c3)"
   ]
  },
  {
   "cell_type": "code",
   "execution_count": 19,
   "metadata": {
    "collapsed": false,
    "deletable": true,
    "editable": true
   },
   "outputs": [
    {
     "data": {
      "text/html": [
       "<div>\n",
       "<table border=\"1\" class=\"dataframe\">\n",
       "  <thead>\n",
       "    <tr style=\"text-align: right;\">\n",
       "      <th></th>\n",
       "      <th>_id</th>\n",
       "      <th>similarity</th>\n",
       "      <th>ltable_id</th>\n",
       "      <th>rtable_id</th>\n",
       "      <th>ltable_name</th>\n",
       "      <th>ltable_artist</th>\n",
       "      <th>rtable_name</th>\n",
       "      <th>rtable_artist</th>\n",
       "    </tr>\n",
       "  </thead>\n",
       "  <tbody>\n",
       "    <tr>\n",
       "      <th>0</th>\n",
       "      <td>0</td>\n",
       "      <td>0.800000</td>\n",
       "      <td>953818</td>\n",
       "      <td>57898</td>\n",
       "      <td>dancing with the stars</td>\n",
       "      <td>telecast</td>\n",
       "      <td>dancing with the stars</td>\n",
       "      <td>NaN</td>\n",
       "    </tr>\n",
       "    <tr>\n",
       "      <th>1</th>\n",
       "      <td>1</td>\n",
       "      <td>0.666667</td>\n",
       "      <td>890173</td>\n",
       "      <td>24816</td>\n",
       "      <td>beauty and the beast</td>\n",
       "      <td>antiloop</td>\n",
       "      <td>beauty and the beast</td>\n",
       "      <td>mideau</td>\n",
       "    </tr>\n",
       "    <tr>\n",
       "      <th>2</th>\n",
       "      <td>2</td>\n",
       "      <td>0.666667</td>\n",
       "      <td>912378</td>\n",
       "      <td>445132</td>\n",
       "      <td>free state of jones</td>\n",
       "      <td>cary hudson</td>\n",
       "      <td>free state of jones</td>\n",
       "      <td>NaN</td>\n",
       "    </tr>\n",
       "    <tr>\n",
       "      <th>3</th>\n",
       "      <td>3</td>\n",
       "      <td>0.625000</td>\n",
       "      <td>759553</td>\n",
       "      <td>607405</td>\n",
       "      <td>scusa ma ti voglio sposare</td>\n",
       "      <td>sugarfree</td>\n",
       "      <td>scusa ma ti voglio sposare</td>\n",
       "      <td>zero assoluto</td>\n",
       "    </tr>\n",
       "    <tr>\n",
       "      <th>4</th>\n",
       "      <td>4</td>\n",
       "      <td>0.600000</td>\n",
       "      <td>534052</td>\n",
       "      <td>701089</td>\n",
       "      <td>toute première fois</td>\n",
       "      <td>kate ryan</td>\n",
       "      <td>toute première fois</td>\n",
       "      <td>NaN</td>\n",
       "    </tr>\n",
       "  </tbody>\n",
       "</table>\n",
       "</div>"
      ],
      "text/plain": [
       "   _id  similarity  ltable_id  rtable_id                 ltable_name  \\\n",
       "0    0    0.800000     953818      57898      dancing with the stars   \n",
       "1    1    0.666667     890173      24816        beauty and the beast   \n",
       "2    2    0.666667     912378     445132         free state of jones   \n",
       "3    3    0.625000     759553     607405  scusa ma ti voglio sposare   \n",
       "4    4    0.600000     534052     701089         toute première fois   \n",
       "\n",
       "  ltable_artist                 rtable_name  rtable_artist  \n",
       "0      telecast      dancing with the stars            NaN  \n",
       "1      antiloop        beauty and the beast         mideau  \n",
       "2   cary hudson         free state of jones            NaN  \n",
       "3     sugarfree  scusa ma ti voglio sposare  zero assoluto  \n",
       "4     kate ryan         toute première fois            NaN  "
      ]
     },
     "execution_count": 19,
     "metadata": {},
     "output_type": "execute_result"
    }
   ],
   "source": [
    "dbg = em.debug_blocker(c3,songs,tracks,output_size = 50)\n",
    "dbg.head()"
   ]
  },
  {
   "cell_type": "code",
   "execution_count": 21,
   "metadata": {
    "collapsed": false,
    "deletable": true,
    "editable": true
   },
   "outputs": [
    {
     "data": {
      "text/html": [
       "<div>\n",
       "<table border=\"1\" class=\"dataframe\">\n",
       "  <thead>\n",
       "    <tr style=\"text-align: right;\">\n",
       "      <th></th>\n",
       "      <th>_id</th>\n",
       "      <th>ltable_id</th>\n",
       "      <th>rtable_id</th>\n",
       "      <th>ltable_title</th>\n",
       "      <th>ltable_artist_name</th>\n",
       "      <th>ltable_year</th>\n",
       "      <th>rtable_song</th>\n",
       "      <th>rtable_artists</th>\n",
       "      <th>rtable_year</th>\n",
       "      <th>gold</th>\n",
       "    </tr>\n",
       "  </thead>\n",
       "  <tbody>\n",
       "    <tr>\n",
       "      <th>0</th>\n",
       "      <td>496</td>\n",
       "      <td>139378</td>\n",
       "      <td>657758</td>\n",
       "      <td>(((t)), ((i)), ((g)), ((e)), ((r)), (( )), ((r)), ((a)), ((g)))</td>\n",
       "      <td>(((p)), ((r)), ((e)), ((s)), ((e)), ((r)), ((v)), ((a)), ((t)), ((i)), ((o)), ((n)), (( )), ((h)...</td>\n",
       "      <td>1989</td>\n",
       "      <td>(((t)), ((i)), ((g)), ((e)), ((r)), (( )), ((r)), ((a)), ((g)))</td>\n",
       "      <td>(((t)), ((h)), ((e)), (( )), ((o)), ((r)), ((i)), ((g)), ((i)), ((n)), ((a)), ((l)), (( )), ((d)...</td>\n",
       "      <td>1947.0</td>\n",
       "      <td>0</td>\n",
       "    </tr>\n",
       "    <tr>\n",
       "      <th>1</th>\n",
       "      <td>1273</td>\n",
       "      <td>590234</td>\n",
       "      <td>270943</td>\n",
       "      <td>(((t)), ((o)), ((o)), (( )), ((l)), ((i)), ((t)), ((t)), ((l)), ((e)), (( )), ((t)), ((o)), ((o)...</td>\n",
       "      <td>(((b)), ((a)), ((r)), ((e)), ((n)), ((a)), ((k)), ((e)), ((d)), (( )), ((l)), ((a)), ((d)), ((i)...</td>\n",
       "      <td>0</td>\n",
       "      <td>(((t)), ((o)), ((o)), (( )), ((l)), ((i)), ((t)), ((t)), ((l)), ((e)), (( )), ((t)), ((o)), ((o)...</td>\n",
       "      <td>(((s)), ((t)), ((e)), ((v)), ((e)), ((n)), (( )), ((p)), ((a)), ((g)), ((e)), ((+)), ((e)), ((d)...</td>\n",
       "      <td>2003.0</td>\n",
       "      <td>1</td>\n",
       "    </tr>\n",
       "    <tr>\n",
       "      <th>2</th>\n",
       "      <td>2353</td>\n",
       "      <td>745750</td>\n",
       "      <td>575882</td>\n",
       "      <td>(((i)), (( )), ((d)), ((o)), ((n)), ((')), ((t)), (( )), ((c)), ((a)), ((r)), ((e)), (( )), ((a)...</td>\n",
       "      <td>(((p)), ((h)), ((i)), ((l)), (( )), ((c)), ((o)), ((l)), ((l)), ((i)), ((n)), ((s)))</td>\n",
       "      <td>0</td>\n",
       "      <td>(((i)), (( )), ((d)), ((o)), ((n)), ((t)), (( )), ((c)), ((a)), ((r)), ((e)), (( )), ((a)), ((n)...</td>\n",
       "      <td>(((p)), ((h)), ((i)), ((l)), (( )), ((c)), ((o)), ((l)), ((l)), ((i)), ((n)), ((s)))</td>\n",
       "      <td>1983.0</td>\n",
       "      <td>1</td>\n",
       "    </tr>\n",
       "    <tr>\n",
       "      <th>3</th>\n",
       "      <td>2663</td>\n",
       "      <td>766248</td>\n",
       "      <td>231528</td>\n",
       "      <td>(((w)), ((h)), ((e)), ((r)), ((e)), (( )), ((d)), ((i)), ((d)), (( )), ((o)), ((u)), ((r)), (( )...</td>\n",
       "      <td>(((t)), ((h)), ((e)), (( )), ((s)), ((u)), ((p)), ((r)), ((e)), ((m)), ((e)), ((s)))</td>\n",
       "      <td>1964</td>\n",
       "      <td>(((w)), ((h)), ((e)), ((r)), ((e)), (( )), ((d)), ((i)), ((d)), (( )), ((o)), ((u)), ((r)), (( )...</td>\n",
       "      <td>(((l)), ((a)), ((m)), ((o)), ((n)), ((t)), (( )), ((d)), ((o)), ((z)), ((i)), ((e)), ((r)), ((+)...</td>\n",
       "      <td>2005.0</td>\n",
       "      <td>1</td>\n",
       "    </tr>\n",
       "    <tr>\n",
       "      <th>4</th>\n",
       "      <td>2907</td>\n",
       "      <td>389190</td>\n",
       "      <td>82676</td>\n",
       "      <td>(((l)), ((-)), ((o)), ((-)), ((v)), ((-)), ((e)))</td>\n",
       "      <td>(((j)), ((o)), ((s)), ((s)), (( )), ((s)), ((t)), ((o)), ((n)), ((e)))</td>\n",
       "      <td>2007</td>\n",
       "      <td>(((l)), ((-)), ((o)), ((-)), ((v)), ((-)), ((e)))</td>\n",
       "      <td>(((j)), ((o)), ((s)), ((s)), (( )), ((s)), ((t)), ((o)), ((n)), ((e)))</td>\n",
       "      <td>2012.0</td>\n",
       "      <td>1</td>\n",
       "    </tr>\n",
       "  </tbody>\n",
       "</table>\n",
       "</div>"
      ],
      "text/plain": [
       "    _id  ltable_id  rtable_id  \\\n",
       "0   496     139378     657758   \n",
       "1  1273     590234     270943   \n",
       "2  2353     745750     575882   \n",
       "3  2663     766248     231528   \n",
       "4  2907     389190      82676   \n",
       "\n",
       "                                                                                          ltable_title  \\\n",
       "0                                      (((t)), ((i)), ((g)), ((e)), ((r)), (( )), ((r)), ((a)), ((g)))   \n",
       "1  (((t)), ((o)), ((o)), (( )), ((l)), ((i)), ((t)), ((t)), ((l)), ((e)), (( )), ((t)), ((o)), ((o)...   \n",
       "2  (((i)), (( )), ((d)), ((o)), ((n)), ((')), ((t)), (( )), ((c)), ((a)), ((r)), ((e)), (( )), ((a)...   \n",
       "3  (((w)), ((h)), ((e)), ((r)), ((e)), (( )), ((d)), ((i)), ((d)), (( )), ((o)), ((u)), ((r)), (( )...   \n",
       "4                                                    (((l)), ((-)), ((o)), ((-)), ((v)), ((-)), ((e)))   \n",
       "\n",
       "                                                                                    ltable_artist_name  \\\n",
       "0  (((p)), ((r)), ((e)), ((s)), ((e)), ((r)), ((v)), ((a)), ((t)), ((i)), ((o)), ((n)), (( )), ((h)...   \n",
       "1  (((b)), ((a)), ((r)), ((e)), ((n)), ((a)), ((k)), ((e)), ((d)), (( )), ((l)), ((a)), ((d)), ((i)...   \n",
       "2                 (((p)), ((h)), ((i)), ((l)), (( )), ((c)), ((o)), ((l)), ((l)), ((i)), ((n)), ((s)))   \n",
       "3                 (((t)), ((h)), ((e)), (( )), ((s)), ((u)), ((p)), ((r)), ((e)), ((m)), ((e)), ((s)))   \n",
       "4                               (((j)), ((o)), ((s)), ((s)), (( )), ((s)), ((t)), ((o)), ((n)), ((e)))   \n",
       "\n",
       "   ltable_year  \\\n",
       "0         1989   \n",
       "1            0   \n",
       "2            0   \n",
       "3         1964   \n",
       "4         2007   \n",
       "\n",
       "                                                                                           rtable_song  \\\n",
       "0                                      (((t)), ((i)), ((g)), ((e)), ((r)), (( )), ((r)), ((a)), ((g)))   \n",
       "1  (((t)), ((o)), ((o)), (( )), ((l)), ((i)), ((t)), ((t)), ((l)), ((e)), (( )), ((t)), ((o)), ((o)...   \n",
       "2  (((i)), (( )), ((d)), ((o)), ((n)), ((t)), (( )), ((c)), ((a)), ((r)), ((e)), (( )), ((a)), ((n)...   \n",
       "3  (((w)), ((h)), ((e)), ((r)), ((e)), (( )), ((d)), ((i)), ((d)), (( )), ((o)), ((u)), ((r)), (( )...   \n",
       "4                                                    (((l)), ((-)), ((o)), ((-)), ((v)), ((-)), ((e)))   \n",
       "\n",
       "                                                                                        rtable_artists  \\\n",
       "0  (((t)), ((h)), ((e)), (( )), ((o)), ((r)), ((i)), ((g)), ((i)), ((n)), ((a)), ((l)), (( )), ((d)...   \n",
       "1  (((s)), ((t)), ((e)), ((v)), ((e)), ((n)), (( )), ((p)), ((a)), ((g)), ((e)), ((+)), ((e)), ((d)...   \n",
       "2                 (((p)), ((h)), ((i)), ((l)), (( )), ((c)), ((o)), ((l)), ((l)), ((i)), ((n)), ((s)))   \n",
       "3  (((l)), ((a)), ((m)), ((o)), ((n)), ((t)), (( )), ((d)), ((o)), ((z)), ((i)), ((e)), ((r)), ((+)...   \n",
       "4                               (((j)), ((o)), ((s)), ((s)), (( )), ((s)), ((t)), ((o)), ((n)), ((e)))   \n",
       "\n",
       "   rtable_year  gold  \n",
       "0       1947.0     0  \n",
       "1       2003.0     1  \n",
       "2       1983.0     1  \n",
       "3       2005.0     1  \n",
       "4       2012.0     1  "
      ]
     },
     "execution_count": 21,
     "metadata": {},
     "output_type": "execute_result"
    }
   ],
   "source": [
    "#Reading in the labeled sample G (and show some examples of G).\n",
    "#\n",
    "# We labeled ~550 candidates and removed entries with missing data.\n",
    "labeled_candidates = em.read_csv_metadata('../DATA/golden_labeled_all_missing_removed.csv', \n",
    "                                          key = '_id',ltable = songs, rtable = tracks, \n",
    "                                          fk_ltable='ltable_id', fk_rtable='rtable_id',encoding='utf-8')\n",
    "# For some reason, the UTF-8 encoding is misbehaving and not represented correctly.\n",
    "# Nevertheless, it is apparent that these are reasonable candidates.\n",
    "labeled_candidates.head()"
   ]
  },
  {
   "cell_type": "code",
   "execution_count": 22,
   "metadata": {
    "collapsed": false,
    "deletable": true,
    "editable": true
   },
   "outputs": [],
   "source": [
    "# Splitting the labeled set G into a development set I and an evaluation set J.\n",
    "IJ = em.split_train_test(labeled_candidates, train_proportion=0.7, random_state=0)\n",
    "I = IJ['train']\n",
    "J = IJ['test']"
   ]
  },
  {
   "cell_type": "code",
   "execution_count": 23,
   "metadata": {
    "collapsed": false,
    "deletable": true,
    "editable": true
   },
   "outputs": [
    {
     "data": {
      "text/plain": [
       "373"
      ]
     },
     "execution_count": 23,
     "metadata": {},
     "output_type": "execute_result"
    }
   ],
   "source": [
    "len(I)"
   ]
  },
  {
   "cell_type": "code",
   "execution_count": 24,
   "metadata": {
    "collapsed": false,
    "deletable": true,
    "editable": true
   },
   "outputs": [
    {
     "data": {
      "text/plain": [
       "160"
      ]
     },
     "execution_count": 24,
     "metadata": {},
     "output_type": "execute_result"
    }
   ],
   "source": [
    "len(J)"
   ]
  },
  {
   "cell_type": "code",
   "execution_count": 25,
   "metadata": {
    "collapsed": false,
    "deletable": true,
    "editable": true
   },
   "outputs": [],
   "source": [
    "# Creating a set of ML-matchers.\n",
    "dt = em.DTMatcher(name='DecisionTree', random_state=0)\n",
    "svm = em.SVMMatcher(name='SVM', random_state=0)\n",
    "rf = em.RFMatcher(name='RF', random_state=0)\n",
    "lg = em.LogRegMatcher(name='LogReg', random_state=0)\n",
    "ln = em.LinRegMatcher(name='LinReg')\n",
    "nb = em.NBMatcher(name='NaiveBayes')"
   ]
  },
  {
   "cell_type": "code",
   "execution_count": 26,
   "metadata": {
    "collapsed": false,
    "deletable": true,
    "editable": true
   },
   "outputs": [],
   "source": [
    "\"\"\"\n",
    "Selecting the best matcher using I. This step should include:\n",
    "    Creating a feature table F.\n",
    "    Converting I into a set H of feature vectors (using the features in F).\n",
    "    Filling in the missing values if any in H.\n",
    "    Selecting the best matcher in the first iteration using cross-validation.\n",
    "    If the matcher was debugged then provide a brief description of what was observed and how the matcher/data/features were modified (show commands for each of the modification done).\n",
    "    Selecting the best matcher again using cross-validation.\n",
    "    Repeat the steps e and f for all the debug iterations.\n",
    "\"\"\"\n",
    "feature_table = em.get_features_for_matching(songs, tracks)\n",
    "\n",
    "H = em.extract_feature_vecs(I, \n",
    "                            feature_table=feature_table, \n",
    "                            attrs_after='gold',\n",
    "                            show_progress=False)\n",
    "\n",
    "result = em.select_matcher([dt, rf, svm, ln, lg, nb], table=H, \n",
    "        exclude_attrs=['_id', 'ltable_id', 'rtable_id', 'gold'],\n",
    "        k=5,\n",
    "        target_attr='gold', metric='precision', random_state=0)"
   ]
  },
  {
   "cell_type": "code",
   "execution_count": 27,
   "metadata": {
    "collapsed": false,
    "deletable": true,
    "editable": true
   },
   "outputs": [
    {
     "name": "stdout",
     "output_type": "stream",
     "text": [
      "OrderedDict([('selected_matcher', <py_entitymatching.matcher.logregmatcher.LogRegMatcher object at 0x7fe6c46d52d0>), ('cv_stats',            Name  \\\n",
      "0  DecisionTree   \n",
      "1            RF   \n",
      "2           SVM   \n",
      "3        LinReg   \n",
      "4        LogReg   \n",
      "5    NaiveBayes   \n",
      "\n",
      "                                                                            Matcher  \\\n",
      "0          <py_entitymatching.matcher.dtmatcher.DTMatcher object at 0x7fe7096ae7d0>   \n",
      "1          <py_entitymatching.matcher.rfmatcher.RFMatcher object at 0x7fe6c4895fd0>   \n",
      "2        <py_entitymatching.matcher.svmmatcher.SVMMatcher object at 0x7fe7096ae910>   \n",
      "3  <py_entitymatching.matcher.linregmatcher.LinRegMatcher object at 0x7fe6c48954d0>   \n",
      "4  <py_entitymatching.matcher.logregmatcher.LogRegMatcher object at 0x7fe6c46d52d0>   \n",
      "5          <py_entitymatching.matcher.nbmatcher.NBMatcher object at 0x7fe6c468fa10>   \n",
      "\n",
      "   Num folds    Fold 1    Fold 2    Fold 3    Fold 4    Fold 5  Mean score  \n",
      "0          5  0.895833  0.909091  0.846154  0.910714  0.872727    0.886904  \n",
      "1          5  0.905660  0.924528  0.851852  0.960784  0.923077    0.913180  \n",
      "2          5  0.796875  0.800000  0.738462  0.828125  0.784615    0.789615  \n",
      "3          5  0.944444  0.979167  0.865385  0.942308  0.870370    0.920335  \n",
      "4          5  0.927273  0.959184  0.860000  0.962264  0.925926    0.926929  \n",
      "5          5  0.900000  0.926829  0.820513  0.969697  0.800000    0.883408  )])\n"
     ]
    }
   ],
   "source": [
    "# The Logistic Regression model achieves the maximum mean precision\n",
    "# score, so we will use that one. No debugging was performed.\n",
    "print result"
   ]
  },
  {
   "cell_type": "code",
   "execution_count": 29,
   "metadata": {
    "collapsed": false
   },
   "outputs": [
    {
     "name": "stdout",
     "output_type": "stream",
     "text": [
      "OrderedDict([('selected_matcher', <py_entitymatching.matcher.svmmatcher.SVMMatcher object at 0x7fe7096ae910>), ('cv_stats',            Name  \\\n",
      "0  DecisionTree   \n",
      "1            RF   \n",
      "2           SVM   \n",
      "3        LinReg   \n",
      "4        LogReg   \n",
      "5    NaiveBayes   \n",
      "\n",
      "                                                                            Matcher  \\\n",
      "0          <py_entitymatching.matcher.dtmatcher.DTMatcher object at 0x7fe7096ae7d0>   \n",
      "1          <py_entitymatching.matcher.rfmatcher.RFMatcher object at 0x7fe6c4895fd0>   \n",
      "2        <py_entitymatching.matcher.svmmatcher.SVMMatcher object at 0x7fe7096ae910>   \n",
      "3  <py_entitymatching.matcher.linregmatcher.LinRegMatcher object at 0x7fe6c48954d0>   \n",
      "4  <py_entitymatching.matcher.logregmatcher.LogRegMatcher object at 0x7fe6c46d52d0>   \n",
      "5          <py_entitymatching.matcher.nbmatcher.NBMatcher object at 0x7fe6c468fa10>   \n",
      "\n",
      "   Num folds    Fold 1    Fold 2    Fold 3    Fold 4    Fold 5  Mean score  \n",
      "0          5  0.826923  0.816327  0.916667  0.962264  0.905660    0.885568  \n",
      "1          5  0.923077  1.000000  0.958333  0.924528  0.905660    0.942320  \n",
      "2          5  0.980769  0.979592  1.000000  1.000000  0.962264    0.984525  \n",
      "3          5  0.980769  0.959184  0.937500  0.924528  0.886792    0.937755  \n",
      "4          5  0.980769  0.959184  0.895833  0.962264  0.943396    0.948289  \n",
      "5          5  0.692308  0.775510  0.666667  0.603774  0.528302    0.653312  )])\n"
     ]
    }
   ],
   "source": [
    "# Recall:\n",
    "result = em.select_matcher([dt, rf, svm, ln, lg, nb], table=H, \n",
    "        exclude_attrs=['_id', 'ltable_id', 'rtable_id', 'gold'],\n",
    "        k=5,\n",
    "        target_attr='gold', metric='recall', random_state=0)\n",
    "print result"
   ]
  },
  {
   "cell_type": "code",
   "execution_count": 30,
   "metadata": {
    "collapsed": false
   },
   "outputs": [
    {
     "name": "stdout",
     "output_type": "stream",
     "text": [
      "OrderedDict([('selected_matcher', <py_entitymatching.matcher.logregmatcher.LogRegMatcher object at 0x7fe6c46d52d0>), ('cv_stats',            Name  \\\n",
      "0  DecisionTree   \n",
      "1            RF   \n",
      "2           SVM   \n",
      "3        LinReg   \n",
      "4        LogReg   \n",
      "5    NaiveBayes   \n",
      "\n",
      "                                                                            Matcher  \\\n",
      "0          <py_entitymatching.matcher.dtmatcher.DTMatcher object at 0x7fe7096ae7d0>   \n",
      "1          <py_entitymatching.matcher.rfmatcher.RFMatcher object at 0x7fe6c4895fd0>   \n",
      "2        <py_entitymatching.matcher.svmmatcher.SVMMatcher object at 0x7fe7096ae910>   \n",
      "3  <py_entitymatching.matcher.linregmatcher.LinRegMatcher object at 0x7fe6c48954d0>   \n",
      "4  <py_entitymatching.matcher.logregmatcher.LogRegMatcher object at 0x7fe6c46d52d0>   \n",
      "5          <py_entitymatching.matcher.nbmatcher.NBMatcher object at 0x7fe6c468fa10>   \n",
      "\n",
      "   Num folds    Fold 1    Fold 2    Fold 3    Fold 4    Fold 5  Mean score  \n",
      "0          5  0.860000  0.860215  0.880000  0.935780  0.888889    0.884977  \n",
      "1          5  0.914286  0.960784  0.901961  0.942308  0.914286    0.926725  \n",
      "2          5  0.879310  0.880734  0.849558  0.905983  0.864407    0.875998  \n",
      "3          5  0.962264  0.969072  0.900000  0.933333  0.878505    0.928635  \n",
      "4          5  0.953271  0.959184  0.877551  0.962264  0.934579    0.937370  \n",
      "5          5  0.782609  0.844444  0.735632  0.744186  0.636364    0.748647  )])\n"
     ]
    }
   ],
   "source": [
    "# F1:\n",
    "result = em.select_matcher([dt, rf, svm, ln, lg, nb], table=H, \n",
    "        exclude_attrs=['_id', 'ltable_id', 'rtable_id', 'gold'],\n",
    "        k=5,\n",
    "        target_attr='gold', metric='f1', random_state=0)\n",
    "print result"
   ]
  },
  {
   "cell_type": "code",
   "execution_count": 60,
   "metadata": {
    "collapsed": false,
    "deletable": true,
    "editable": true
   },
   "outputs": [
    {
     "name": "stdout",
     "output_type": "stream",
     "text": [
      "Precision : 95.76% (113/118)\n",
      "Recall : 96.58% (113/117)\n",
      "F1 : 96.17%\n",
      "False positives : 5 (out of 118 positive predictions)\n",
      "False negatives : 4 (out of 42 negative predictions)\n"
     ]
    }
   ],
   "source": [
    "\"\"\"\n",
    "Evaluating the best matcher Y using J. This step should include:\n",
    "    Converting J into a set L of feature vectors.\n",
    "    Filling in the missing values if any in L.\n",
    "    Training the best matcher Y using I.\n",
    "    Computing the accuracy of Y\n",
    "\"\"\"\n",
    "L = em.extract_feature_vecs(J, feature_table=feature_table,\n",
    "                            attrs_after='gold', show_progress=False)\n",
    "\n",
    "lg.fit(table=H, \n",
    "       exclude_attrs=['_id', 'ltable_id', 'rtable_id', 'gold'], \n",
    "       target_attr='gold')\n",
    "\n",
    "predictions = lg.predict(table=L, exclude_attrs=['_id', 'ltable_id', 'rtable_id', 'gold'], \n",
    "              append=True, target_attr='predicted', inplace=False)\n",
    "\n",
    "eval_result = em.eval_matches(predictions, 'gold', 'predicted')\n",
    "em.print_eval_summary(eval_result)"
   ]
  },
  {
   "cell_type": "code",
   "execution_count": 38,
   "metadata": {
    "collapsed": false
   },
   "outputs": [
    {
     "name": "stdout",
     "output_type": "stream",
     "text": [
      "Decision Tree\n",
      "Precision : 90.16% (110/122)\n",
      "Recall : 94.02% (110/117)\n",
      "F1 : 92.05%\n",
      "False positives : 12 (out of 122 positive predictions)\n",
      "False negatives : 7 (out of 38 negative predictions)\n",
      "\n",
      "Random Forest\n",
      "Precision : 95.73% (112/117)\n",
      "Recall : 95.73% (112/117)\n",
      "F1 : 95.73%\n",
      "False positives : 5 (out of 117 positive predictions)\n",
      "False negatives : 5 (out of 43 negative predictions)\n",
      "\n",
      "SVM\n",
      "Precision : 81.69% (116/142)\n",
      "Recall : 99.15% (116/117)\n",
      "F1 : 89.58%\n",
      "False positives : 26 (out of 142 positive predictions)\n",
      "False negatives : 1 (out of 18 negative predictions)\n",
      "\n",
      "Linear Regression\n",
      "Precision : 96.64% (115/119)\n",
      "Recall : 98.29% (115/117)\n",
      "F1 : 97.46%\n",
      "False positives : 4 (out of 119 positive predictions)\n",
      "False negatives : 2 (out of 41 negative predictions)\n",
      "\n",
      "Naive Bayes\n",
      "Precision : 97.22% (70/72)\n",
      "Recall : 59.83% (70/117)\n",
      "F1 : 74.07%\n",
      "False positives : 2 (out of 72 positive predictions)\n",
      "False negatives : 47 (out of 88 negative predictions)\n",
      "\n"
     ]
    }
   ],
   "source": [
    "# These are to produce data for the PDF writeup.\n",
    "\"\"\"\n",
    "dt = em.DTMatcher(name='DecisionTree', random_state=0)\n",
    "svm = em.SVMMatcher(name='SVM', random_state=0)\n",
    "rf = em.RFMatcher(name='RF', random_state=0)\n",
    "lg = em.LogRegMatcher(name='LogReg', random_state=0)\n",
    "ln = em.LinRegMatcher(name='LinReg')\n",
    "nb = em.NBMatcher(name='NaiveBayes')\n",
    "\"\"\"\n",
    "\n",
    "for (ml,name) in zip([dt,rf,svm,ln,nb], \n",
    "                    ['Decision Tree', 'Random Forest', 'SVM', 'Linear Regression', 'Naive Bayes']):\n",
    "    ml.fit(table=H, \n",
    "       exclude_attrs=['_id', 'ltable_id', 'rtable_id', 'gold'], \n",
    "       target_attr='gold')\n",
    "\n",
    "    predictions = ml.predict(table=L, exclude_attrs=['_id', 'ltable_id', 'rtable_id', 'gold'], \n",
    "              append=True, target_attr='predicted', inplace=False)\n",
    "\n",
    "    eval_result = em.eval_matches(predictions, 'gold', 'predicted')\n",
    "    print name\n",
    "    em. (eval_result)\n",
    "    print"
   ]
  }
 ],
 "metadata": {
  "kernelspec": {
   "display_name": "Python 2",
   "language": "python",
   "name": "python2"
  },
  "language_info": {
   "codemirror_mode": {
    "name": "ipython",
    "version": 2
   },
   "file_extension": ".py",
   "mimetype": "text/x-python",
   "name": "python",
   "nbconvert_exporter": "python",
   "pygments_lexer": "ipython2",
   "version": "2.7.6"
  }
 },
 "nbformat": 4,
 "nbformat_minor": 2
}
